{
 "cells": [
  {
   "cell_type": "code",
   "execution_count": 1,
   "metadata": {},
   "outputs": [
    {
     "name": "stderr",
     "output_type": "stream",
     "text": [
      "Torch version 1.13.0 has not been tested with coremltools. You may run into unexpected errors. Torch 1.12.1 is the most recent version that has been tested.\n"
     ]
    },
    {
     "data": {
      "text/plain": [
       "SleepModel(\n",
       "  (net): SleepNet(\n",
       "    (layers): Sequential(\n",
       "      (0): Linear(in_features=13, out_features=128, bias=True)\n",
       "      (1): GELU(approximate='none')\n",
       "      (2): Linear(in_features=128, out_features=128, bias=True)\n",
       "      (3): GELU(approximate='none')\n",
       "      (4): Dropout(p=0.1, inplace=False)\n",
       "      (5): Linear(in_features=128, out_features=128, bias=True)\n",
       "      (6): GELU(approximate='none')\n",
       "      (7): Dropout(p=0.1, inplace=False)\n",
       "      (8): Linear(in_features=128, out_features=1, bias=True)\n",
       "    )\n",
       "  )\n",
       "  (net_ema): EMAModel(\n",
       "    (module): SleepNet(\n",
       "      (layers): Sequential(\n",
       "        (0): Linear(in_features=13, out_features=128, bias=True)\n",
       "        (1): GELU(approximate='none')\n",
       "        (2): Linear(in_features=128, out_features=128, bias=True)\n",
       "        (3): GELU(approximate='none')\n",
       "        (4): Dropout(p=0.1, inplace=False)\n",
       "        (5): Linear(in_features=128, out_features=128, bias=True)\n",
       "        (6): GELU(approximate='none')\n",
       "        (7): Dropout(p=0.1, inplace=False)\n",
       "        (8): Linear(in_features=128, out_features=1, bias=True)\n",
       "      )\n",
       "    )\n",
       "  )\n",
       "  (loss): BCEWithLogitsLoss()\n",
       "  (metrics): MetricCollection(\n",
       "    (acc): BinaryAccuracy()\n",
       "    (mf1): BinaryF1Score()\n",
       "    (mp): BinaryPrecision()\n",
       "    (mr): BinaryRecall()\n",
       "    (wf1): BinaryF1Score()\n",
       "    (wp): BinaryPrecision()\n",
       "    (wr): BinaryRecall(),\n",
       "    prefix=val/\n",
       "  )\n",
       "  (metrics_ema): MetricCollection(\n",
       "    (acc): BinaryAccuracy()\n",
       "    (mf1): BinaryF1Score()\n",
       "    (mp): BinaryPrecision()\n",
       "    (mr): BinaryRecall()\n",
       "    (wf1): BinaryF1Score()\n",
       "    (wp): BinaryPrecision()\n",
       "    (wr): BinaryRecall(),\n",
       "    prefix=val_ema/\n",
       "  )\n",
       ")"
      ]
     },
     "execution_count": 1,
     "metadata": {},
     "output_type": "execute_result"
    }
   ],
   "source": [
    "import torch\n",
    "import sys\n",
    "\n",
    "import coremltools as ct\n",
    "\n",
    "sys.path.append(\"..\")\n",
    "\n",
    "from app.model import SleepModel\n",
    "\n",
    "model = SleepModel.load_from_checkpoint(\n",
    "    \"../lightning_logs/version_16/checkpoints/epoch=9-step=3990.ckpt\"\n",
    ")\n",
    "model.eval()\n"
   ]
  },
  {
   "cell_type": "code",
   "execution_count": 2,
   "metadata": {},
   "outputs": [],
   "source": [
    "accs, hvs, hds = torch.randn(1, 3), torch.randn(1, 5), torch.randn(1, 5)\n",
    "traced = torch.jit.trace(model.net_ema.module, (accs, hvs, hds))"
   ]
  },
  {
   "cell_type": "code",
   "execution_count": 3,
   "metadata": {},
   "outputs": [
    {
     "name": "stderr",
     "output_type": "stream",
     "text": [
      "Converting PyTorch Frontend ==> MIL Ops:  95%|█████████▌| 20/21 [00:00<00:00, 5278.51 ops/s]\n",
      "Running MIL Common passes: 100%|██████████| 39/39 [00:00<00:00, 3587.23 passes/s]\n",
      "Running MIL Clean up passes: 100%|██████████| 11/11 [00:00<00:00, 4118.30 passes/s]\n",
      "Translating MIL ==> NeuralNetwork Ops: 100%|██████████| 27/27 [00:00<00:00, 1447.57 ops/s]\n"
     ]
    }
   ],
   "source": [
    "mlmodel = ct.convert(\n",
    "    traced,\n",
    "    inputs=[\n",
    "        ct.TensorType(shape=accs.shape, name=\"accs\"),\n",
    "        ct.TensorType(shape=hvs.shape, name=\"hvs\"),\n",
    "        ct.TensorType(shape=hds.shape, name=\"hds\"),\n",
    "    ],\n",
    "    outputs=[ct.TensorType(name=\"out\")],\n",
    "    # classifier_config=ct.ClassifierConfig([\"awake\", \"asleep\"]),\n",
    ")\n"
   ]
  },
  {
   "cell_type": "code",
   "execution_count": 4,
   "metadata": {},
   "outputs": [
    {
     "data": {
      "text/plain": [
       "{'out': array([0.4663086], dtype=float32)}"
      ]
     },
     "execution_count": 4,
     "metadata": {},
     "output_type": "execute_result"
    }
   ],
   "source": [
    "mlmodel.predict({\"accs\": accs, \"hvs\": hvs, \"hds\": hds})"
   ]
  },
  {
   "cell_type": "code",
   "execution_count": 5,
   "metadata": {},
   "outputs": [],
   "source": [
    "mlmodel.save(\"sleep.mlmodel\")"
   ]
  },
  {
   "cell_type": "code",
   "execution_count": null,
   "metadata": {},
   "outputs": [],
   "source": []
  }
 ],
 "metadata": {
  "kernelspec": {
   "display_name": "Python 3.10.8 ('.venv': venv)",
   "language": "python",
   "name": "python3"
  },
  "language_info": {
   "codemirror_mode": {
    "name": "ipython",
    "version": 3
   },
   "file_extension": ".py",
   "mimetype": "text/x-python",
   "name": "python",
   "nbconvert_exporter": "python",
   "pygments_lexer": "ipython3",
   "version": "3.10.8"
  },
  "orig_nbformat": 4,
  "vscode": {
   "interpreter": {
    "hash": "3ce105049d78119472ca3b3cf4c61059493152c7e7d9904a4ef9a59ce220f93a"
   }
  }
 },
 "nbformat": 4,
 "nbformat_minor": 2
}
